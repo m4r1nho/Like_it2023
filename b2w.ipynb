{
 "cells": [
  {
   "cell_type": "code",
   "execution_count": 2,
   "metadata": {},
   "outputs": [],
   "source": [
    "import pandas as pd\n",
    "from fell_dash import to_create, analyze_google, create_cloud\n",
    "from sklearn.metrics import classification_report\n",
    "from sklearn.metrics import confusion_matrix, ConfusionMatrixDisplay\n",
    "import matplotlib.pyplot as plt"
   ]
  },
  {
   "cell_type": "code",
   "execution_count": 3,
   "metadata": {},
   "outputs": [
    {
     "name": "stdout",
     "output_type": "stream",
     "text": [
      "                                              review_text  rating  polarity\n",
      "0       Bem macio e felpudo...recomendo.  Preço imbatí...       4       1.0\n",
      "1       Produto excepcional!  recomendo!!! inovador e ...       5       1.0\n",
      "2       recebi o produto antes do prazo mas veio com d...       1       0.0\n",
      "3       Bom custo beneficio. Adequado para pessoas que...       5       1.0\n",
      "4       Além de higiênico tem o tamanho ideal. Só falt...       3       NaN\n",
      "...                                                   ...     ...       ...\n",
      "132368  SMARTHPHONE  PERFEITO  MUITO  BOM  E  A  ECONO...       5       1.0\n",
      "132369  Eu estou muito chateado com isso gostaria que ...       1       0.0\n",
      "132370  Vale a pena pelo preço oferecido, qualidade a ...       3       NaN\n",
      "132371  O produto anunciado no site dizia ser  100% al...       1       0.0\n",
      "132372  Não recebi o produto e consta como entregue no...       1       0.0\n",
      "\n",
      "[132373 rows x 3 columns]\n"
     ]
    }
   ],
   "source": [
    "file = 'testes/b2w.csv'\n",
    "df = pd.read_csv(file)\n",
    "\n",
    "df = df [['review_text', 'rating', 'polarity']]\n",
    "print (df)\n"
   ]
  },
  {
   "cell_type": "code",
   "execution_count": 4,
   "metadata": {},
   "outputs": [
    {
     "name": "stdout",
     "output_type": "stream",
     "text": [
      "47955 0\n",
      "32345 0\n",
      "0 0 16315\n",
      "0 8389\n",
      "0 27369\n"
     ]
    }
   ],
   "source": [
    "# validating the coherence of the dataset\n",
    "contador5_1 = len(df[(df['rating'] == 5) & (df['polarity'] == 1.0)])\n",
    "contador5_0 = len(df[(df['rating'] == 5) & (df['polarity'] == 0.0)])\n",
    "\n",
    "contador4_1 = len(df[(df['rating'] == 4) & (df['polarity'] == 1.0)])\n",
    "contador4_0 = len(df[(df['rating'] == 4) & (df['polarity'] == 0.0)])\n",
    "\n",
    "contador3_1 = len(df[(df['rating'] == 3) & (df['polarity'] == 1.0)])\n",
    "contador3_0 = len(df[(df['rating'] == 3) & (df['polarity'] == 0.0)])\n",
    "contador3_n = len(df[(df['rating'] == 3) & pd.isna(df['polarity'])])\n",
    "\n",
    "\n",
    "contador2_1 = len(df[(df['rating'] == 2) & (df['polarity'] == 1.0)])\n",
    "contador2_0 = len(df[(df['rating'] == 2) & (df['polarity'] == 0.0)])\n",
    "\n",
    "contador1_1 = len(df[(df['rating'] == 1) & (df['polarity'] == 1.0)])\n",
    "contador1_0 = len(df[(df['rating'] == 1) & (df['polarity'] == 0.0)])\n",
    "\n",
    "print(contador5_1, contador5_0)\n",
    "print(contador4_1, contador4_0)\n",
    "print(contador3_1, contador3_0, contador3_n)\n",
    "print(contador2_1, contador2_0)\n",
    "print(contador1_1, contador1_0)"
   ]
  },
  {
   "cell_type": "code",
   "execution_count": 11,
   "metadata": {},
   "outputs": [
    {
     "name": "stdout",
     "output_type": "stream",
     "text": [
      "                                           review_text  rating  polarity\n",
      "2    recebi o produto antes do prazo mas veio com d...       1       0.0\n",
      "10   Não compra este produto, pois o mesmo veio com...       1       0.0\n",
      "12   Tive azar, pois o produto não ligou. Tive que ...       1       0.0\n",
      "13   Uma enganação! Esperei quase um mês e cancelar...       1       0.0\n",
      "25   Cancelei 10 minutos depois que efetuei a compr...       1       0.0\n",
      "..                                                 ...     ...       ...\n",
      "136  Chegou em bom estado, sem defeitos. Bem lacrad...       5       1.0\n",
      "140  Excelente compra...chegou antes do prazo. muit...       5       1.0\n",
      "143  Amei o produto, ótimo  ele cumpre  mto bem o s...       5       1.0\n",
      "144  Lindo .. Confortável.. Fashion.. ótima qualida...       5       1.0\n",
      "148  AVALIAÇÃO EXCELENTE. PARABENS PELA QUALIDADE E...       5       1.0\n",
      "\n",
      "[350 rows x 3 columns]\n"
     ]
    }
   ],
   "source": [
    "df_filtro_5 = df[df['rating'] == 5].head(50)\n",
    "df_filtro_4 = df[df['rating'] == 4].head(50)\n",
    "df_filtro_3 = df[df['rating'] == 3].head(150)\n",
    "df_filtro_2 = df[df['rating'] == 2].head(50)\n",
    "df_filtro_1 = df[df['rating'] == 1].head(50)\n",
    "\n",
    "df_resultante = pd.concat([df_filtro_1, df_filtro_2, df_filtro_3, df_filtro_4, df_filtro_5])\n",
    "print(df_resultante)"
   ]
  },
  {
   "cell_type": "code",
   "execution_count": 12,
   "metadata": {},
   "outputs": [
    {
     "name": "stdout",
     "output_type": "stream",
     "text": [
      "                                           review_text  rating  polarity\n",
      "2    recebi o produto antes do prazo mas veio com d...      -1       0.0\n",
      "10   Não compra este produto, pois o mesmo veio com...      -1       0.0\n",
      "12   Tive azar, pois o produto não ligou. Tive que ...      -1       0.0\n",
      "13   Uma enganação! Esperei quase um mês e cancelar...      -1       0.0\n",
      "25   Cancelei 10 minutos depois que efetuei a compr...      -1       0.0\n",
      "..                                                 ...     ...       ...\n",
      "136  Chegou em bom estado, sem defeitos. Bem lacrad...       1       1.0\n",
      "140  Excelente compra...chegou antes do prazo. muit...       1       1.0\n",
      "143  Amei o produto, ótimo  ele cumpre  mto bem o s...       1       1.0\n",
      "144  Lindo .. Confortável.. Fashion.. ótima qualida...       1       1.0\n",
      "148  AVALIAÇÃO EXCELENTE. PARABENS PELA QUALIDADE E...       1       1.0\n",
      "\n",
      "[350 rows x 3 columns]\n"
     ]
    }
   ],
   "source": [
    "df_resultante['rating'] = df_resultante['rating'].apply(lambda x: 1 if x > 3 else (0 if x == 3 else -1))\n",
    "\n",
    "print(df_resultante)"
   ]
  },
  {
   "cell_type": "code",
   "execution_count": 13,
   "metadata": {},
   "outputs": [],
   "source": [
    "comments = df_resultante['review_text'].tolist()\n",
    "predict = analyze_google(comments)"
   ]
  },
  {
   "cell_type": "code",
   "execution_count": 14,
   "metadata": {},
   "outputs": [],
   "source": [
    "real = df_resultante['rating'].tolist()"
   ]
  },
  {
   "cell_type": "code",
   "execution_count": 15,
   "metadata": {},
   "outputs": [
    {
     "name": "stdout",
     "output_type": "stream",
     "text": [
      "[-1, 1, 0, 1, 1, -1, -1, 0, 1, 1, -1, -1, 0, 1, 0, -1, -1, -1, -1, 1, 1, -1, -1, -1, 0, -1, -1, 0, -1, -1, -1, 1, 0, 1, -1, -1, 1, 1, -1, -1, 1, 0, -1, -1, 1, 0, -1, -1, 1, -1, -1, -1, 1, 0, -1, 0, 1, 1, -1, -1, -1, 1, -1, 0, -1, 1, 0, 1, 0, -1, 1, 1, 1, -1, 0, 1, 1, -1, -1, 0, 1, -1, 0, 0, -1, 1, -1, 1, -1, -1, -1, 1, 1, -1, 1, 0, 1, -1, 1, -1, 1, -1, -1, 1, 1, -1, 1, 1, 1, 1, 1, 1, -1, 1, 0, 1, -1, 1, 0, 1, -1, 0, 1, 0, -1, -1, 1, 1, -1, 1, 0, 0, -1, -1, 0, -1, 1, -1, 1, 1, 0, -1, 1, 1, 1, -1, 1, 1, 0, -1, 1, 1, 0, -1, 1, 1, 1, 0, -1, 1, 0, -1, 1, 1, -1, 0, -1, 1, -1, 1, -1, 0, 1, 1, -1, 1, 1, 0, 0, 1, -1, 1, 1, -1, 1, 1, -1, -1, 1, 0, 0, 1, 1, 1, -1, 1, 0, 1, -1, 1, -1, 1, 0, 1, -1, 1, 1, 1, 0, 0, -1, 1, 1, 1, 1, -1, 1, -1, 1, 0, 1, 1, 0, 1, 0, 0, -1, 0, 1, 0, 1, 0, -1, 1, -1, 1, 0, 1, 0, 1, -1, 1, 1, 0, 1, 1, 1, -1, 1, 1, 1, 1, 1, -1, 1, -1, -1, 1, 1, 1, -1, 1, 1, -1, 0, -1, 1, 1, 1, 0, 1, -1, 0, 0, 1, 1, 0, -1, 1, -1, -1, 1, 0, -1, 1, 0, 1, 1, 1, -1, 1, 1, 0, 0, 0, 1, 0, -1, 1, 1, 1, -1, 0, 0, 1, -1, -1, 1, 0, 0, 0, 1, 0, -1, 1, 1, 0, -1, 1, 1, -1, -1, 1, 1, -1, -1, 1, -1, 0, -1, 1, 1, -1, -1, 1, 1, 1, -1, 1, -1, 1, -1, 1, 0, 1, -1, 1, -1, 1, -1]\n"
     ]
    }
   ],
   "source": [
    "for i in range(len(predict)):\n",
    "    if predict[i] < -0.1:\n",
    "        predict[i] = -1\n",
    "    elif predict[i] > 0.3:\n",
    "        predict[i] = 1\n",
    "    else:\n",
    "        predict[i] = 0\n",
    "print(predict)\n"
   ]
  },
  {
   "cell_type": "code",
   "execution_count": 16,
   "metadata": {},
   "outputs": [
    {
     "name": "stdout",
     "output_type": "stream",
     "text": [
      "              precision    recall  f1-score   support\n",
      "\n",
      "          -1       0.39      0.47      0.43       100\n",
      "           0       0.45      0.21      0.29       150\n",
      "           1       0.30      0.48      0.37       100\n",
      "\n",
      "    accuracy                           0.36       350\n",
      "   macro avg       0.38      0.39      0.36       350\n",
      "weighted avg       0.39      0.36      0.35       350\n",
      "\n"
     ]
    }
   ],
   "source": [
    "print(classification_report(real, predict, labels=[-1, 0, 1]))\n",
    "\n"
   ]
  }
 ],
 "metadata": {
  "kernelspec": {
   "display_name": "Python 3",
   "language": "python",
   "name": "python3"
  },
  "language_info": {
   "codemirror_mode": {
    "name": "ipython",
    "version": 3
   },
   "file_extension": ".py",
   "mimetype": "text/x-python",
   "name": "python",
   "nbconvert_exporter": "python",
   "pygments_lexer": "ipython3",
   "version": "3.10.7"
  }
 },
 "nbformat": 4,
 "nbformat_minor": 2
}
